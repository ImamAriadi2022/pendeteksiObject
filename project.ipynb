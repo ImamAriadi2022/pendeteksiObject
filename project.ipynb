{
 "cells": [
  {
   "cell_type": "code",
   "execution_count": null,
   "metadata": {},
   "outputs": [],
   "source": [
    "import numpy as np\n",
    "import os\n",
    "import cv2\n",
    "import tensorflow as tf\n",
    "from tensorflow.keras.applications.resnet50 import ResNet50, preprocess_input\n",
    "from tensorflow.keras.preprocessing import image\n",
    "from tensorflow.keras.models import Model\n",
    "\n",
    "# Load pre-trained ResNet50 model + higher level layers\n",
    "base_model = ResNet50(weights='imagenet')\n",
    "model = Model(inputs=base_model.input, outputs=base_model.get_layer('avg_pool').output)\n",
    "\n",
    "def extract_features(img_path, model):\n",
    "    img = image.load_img(img_path, target_size=(224, 224))\n",
    "    img_data = image.img_to_array(img)\n",
    "    img_data = np.expand_dims(img_data, axis=0)\n",
    "    img_data = preprocess_input(img_data)\n",
    "    \n",
    "    features = model.predict(img_data)\n",
    "    return features.flatten()\n",
    "\n",
    "def load_images_and_extract_features(image_folder, model):\n",
    "    features = []\n",
    "    filenames = []\n",
    "    for filename in os.listdir(image_folder):\n",
    "        if filename.endswith(\".jpg\") or filename.endswith(\".png\"):\n",
    "            image_path = os.path.join(image_folder, filename)\n",
    "            feature = extract_features(image_path, model)\n",
    "            features.append(feature)\n",
    "            filenames.append(image_path)\n",
    "    return features, filenames\n",
    "\n",
    "image_folder = 'fotoSaya'\n",
    "features, filenames = load_images_and_extract_features(image_folder, model)\n"
   ]
  },
  {
   "cell_type": "code",
   "execution_count": null,
   "metadata": {},
   "outputs": [],
   "source": [
    "import pickle\n",
    "\n",
    "with open('features.pkl', 'wb') as f:\n",
    "    pickle.dump(features, f)\n",
    "    \n",
    "with open('filenames.pkl', 'wb') as f:\n",
    "    pickle.dump(filenames, f)\n"
   ]
  },
  {
   "cell_type": "code",
   "execution_count": null,
   "metadata": {},
   "outputs": [],
   "source": [
    "from sklearn.metrics.pairwise import cosine_similarity\n",
    "\n",
    "def search_similar_images(query_image_path, model, top_n=5):\n",
    "    query_feature = extract_features(query_image_path, model)\n",
    "    \n",
    "    similarities = cosine_similarity([query_feature], features)\n",
    "    sorted_indices = similarities[0].argsort()[::-1][:top_n]\n",
    "    \n",
    "    similar_images = [filenames[idx] for idx in sorted_indices]\n",
    "    return similar_images\n",
    "\n",
    "query_image_path = 'fotoSaya/foto1.jpg'\n",
    "similar_images = search_similar_images(query_image_path, model)\n",
    "\n",
    "for img in similar_images:\n",
    "    print(img)\n"
   ]
  },
  {
   "cell_type": "code",
   "execution_count": null,
   "metadata": {},
   "outputs": [],
   "source": [
    "import matplotlib.pyplot as plt\n",
    "import cv2\n",
    "\n",
    "img_path = 'fotoSaya/foto1.jpg'\n",
    "\n",
    "def show_images(images):\n",
    "    num_images = len(images)\n",
    "    fig, axes = plt.subplots(1, num_images, figsize=(20, 5))\n",
    "    \n",
    "    if num_images == 1:\n",
    "        axes = [axes]\n",
    "    \n",
    "    for ax, img_path in zip(axes, images):\n",
    "        img = cv2.imread(img_path)\n",
    "        img = cv2.cvtColor(img, cv2.COLOR_BGR2RGB)\n",
    "        ax.imshow(img)\n",
    "        ax.axis('off')\n",
    "    \n",
    "    plt.show()\n",
    "\n",
    "# Misalnya, jika 'similar_images' berisi daftar jalur gambar\n",
    "similar_images = [img_path]  # Ganti dengan daftar jalur gambar Anda\n",
    "show_images(similar_images)\n"
   ]
  },
  {
   "cell_type": "code",
   "execution_count": null,
   "metadata": {},
   "outputs": [],
   "source": [
    "import streamlit as st\n",
    "\n",
    "st.title(\"Sistem Pendeteksi Objek dalam Gambar Menggunakan CBIR\")\n",
    "uploaded_file = st.file_uploader(\"Unggah gambar\", type=[\"jpg\", \"png\"])\n",
    "\n",
    "if uploaded_file is not None:\n",
    "    with open(\"temp.jpg\", \"wb\") as f:\n",
    "        f.write(uploaded_file.getbuffer())\n",
    "    st.image(\"temp.jpg\", caption=\"Gambar Query\", use_column_width=True)\n",
    "    similar_images = search_similar_images(\"temp.jpg\", model)\n",
    "    st.write(\"Hasil Pencarian:\")\n",
    "    show_images(similar_images)\n"
   ]
  }
 ],
 "metadata": {
  "kernelspec": {
   "display_name": "Python 3",
   "language": "python",
   "name": "python3"
  },
  "language_info": {
   "codemirror_mode": {
    "name": "ipython",
    "version": 3
   },
   "file_extension": ".py",
   "mimetype": "text/x-python",
   "name": "python",
   "nbconvert_exporter": "python",
   "pygments_lexer": "ipython3",
   "version": "3.11.9"
  }
 },
 "nbformat": 4,
 "nbformat_minor": 2
}
